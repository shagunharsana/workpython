{
 "cells": [
  {
   "cell_type": "code",
   "execution_count": 1,
   "id": "0ec41e49-2f49-4ed9-bc6d-27b05cc29868",
   "metadata": {},
   "outputs": [],
   "source": [
    "x = 10"
   ]
  },
  {
   "cell_type": "code",
   "execution_count": 2,
   "id": "f5c6ada0-63b2-4883-bec6-4419a3ff9fa9",
   "metadata": {},
   "outputs": [],
   "source": [
    "x = x + 5"
   ]
  },
  {
   "cell_type": "code",
   "execution_count": 3,
   "id": "eba7377e-b3f0-4e7e-a6ec-82c51d004c50",
   "metadata": {},
   "outputs": [
    {
     "data": {
      "text/plain": [
       "15"
      ]
     },
     "execution_count": 3,
     "metadata": {},
     "output_type": "execute_result"
    }
   ],
   "source": [
    "x"
   ]
  },
  {
   "cell_type": "code",
   "execution_count": 8,
   "id": "f8270c34-87c1-4cae-8c7f-d4a7d0e656d0",
   "metadata": {},
   "outputs": [],
   "source": [
    "name = \"John\""
   ]
  },
  {
   "cell_type": "code",
   "execution_count": 9,
   "id": "33559bd3-8ea4-4d06-9b46-3c52c796fb34",
   "metadata": {},
   "outputs": [],
   "source": [
    "age = 25"
   ]
  },
  {
   "cell_type": "code",
   "execution_count": 10,
   "id": "bb355922-c580-477c-9625-e2a2025ae4f3",
   "metadata": {},
   "outputs": [
    {
     "name": "stdout",
     "output_type": "stream",
     "text": [
      "My name is John and I am 25 years old.\n"
     ]
    }
   ],
   "source": [
    "print(\"My name is\", name, \"and I am\", age, \"years old.\")"
   ]
  },
  {
   "cell_type": "code",
   "execution_count": 11,
   "id": "402824c9-da9f-4430-94ba-92ab8b48b0f3",
   "metadata": {},
   "outputs": [],
   "source": [
    "word = \"Python\""
   ]
  },
  {
   "cell_type": "code",
   "execution_count": 12,
   "id": "f44bd725-ae18-43ee-9673-9c46b46fa290",
   "metadata": {},
   "outputs": [
    {
     "name": "stdout",
     "output_type": "stream",
     "text": [
      "t\n"
     ]
    }
   ],
   "source": [
    "print(word[2])"
   ]
  },
  {
   "cell_type": "code",
   "execution_count": 13,
   "id": "e16d0403-cecb-4a22-b742-a2db35aa39de",
   "metadata": {},
   "outputs": [],
   "source": [
    "text = \"Hello, World!\""
   ]
  },
  {
   "cell_type": "code",
   "execution_count": 14,
   "id": "4a1bb781-c895-4020-86e2-a26d56e2e18f",
   "metadata": {},
   "outputs": [
    {
     "name": "stdout",
     "output_type": "stream",
     "text": [
      "World\n"
     ]
    }
   ],
   "source": [
    "print(text[7:12])"
   ]
  },
  {
   "cell_type": "code",
   "execution_count": 15,
   "id": "51a98661-de73-4927-8026-eb78632a24a6",
   "metadata": {},
   "outputs": [],
   "source": [
    "phrase = \"Python is fun!\""
   ]
  },
  {
   "cell_type": "code",
   "execution_count": 16,
   "id": "cfd47022-337d-4206-b54f-3b0a2a606e09",
   "metadata": {},
   "outputs": [],
   "source": [
    "new_phrase = phrase.replace(\"fun\", \"awesome\")"
   ]
  },
  {
   "cell_type": "code",
   "execution_count": 17,
   "id": "2a8b54f6-d9c2-444a-aca5-8c5a125987dc",
   "metadata": {},
   "outputs": [
    {
     "name": "stdout",
     "output_type": "stream",
     "text": [
      "Python is awesome!\n"
     ]
    }
   ],
   "source": [
    "print(new_phrase)"
   ]
  },
  {
   "cell_type": "code",
   "execution_count": 18,
   "id": "afd23aad-9fe3-4c26-947d-36bdf91e574e",
   "metadata": {},
   "outputs": [],
   "source": [
    "string1 = \"Python\""
   ]
  },
  {
   "cell_type": "code",
   "execution_count": 19,
   "id": "2d7e775d-5581-4745-98b8-428ce7bd9703",
   "metadata": {},
   "outputs": [],
   "source": [
    "string2 = \"Programming\"\n",
    "\n"
   ]
  },
  {
   "cell_type": "code",
   "execution_count": 20,
   "id": "c2635277-d889-4b45-8870-8b73bf4d3055",
   "metadata": {},
   "outputs": [],
   "source": [
    "result = string1 + \" \" + string2"
   ]
  },
  {
   "cell_type": "code",
   "execution_count": 21,
   "id": "d16e55db-b56d-4218-b596-548ec4b08bb2",
   "metadata": {},
   "outputs": [
    {
     "name": "stdout",
     "output_type": "stream",
     "text": [
      "Python Programming\n"
     ]
    }
   ],
   "source": [
    "print(result)"
   ]
  },
  {
   "cell_type": "code",
   "execution_count": 22,
   "id": "cd4e2a77-1800-4d86-b6d6-70789447a32b",
   "metadata": {},
   "outputs": [],
   "source": [
    "word = \"Python\""
   ]
  },
  {
   "cell_type": "code",
   "execution_count": 23,
   "id": "541eb4bf-f28a-43da-aa85-81b32d7990e6",
   "metadata": {},
   "outputs": [],
   "source": [
    "repeated_word = word * 3"
   ]
  },
  {
   "cell_type": "code",
   "execution_count": 24,
   "id": "ebd3e7df-7dee-4fee-9dac-d05c6f44b348",
   "metadata": {},
   "outputs": [
    {
     "name": "stdout",
     "output_type": "stream",
     "text": [
      "PythonPythonPython\n"
     ]
    }
   ],
   "source": [
    "print(repeated_word)"
   ]
  },
  {
   "cell_type": "code",
   "execution_count": 25,
   "id": "d8799a3a-c753-4988-a0ab-c163f6defb7c",
   "metadata": {},
   "outputs": [
    {
     "name": "stdout",
     "output_type": "stream",
     "text": [
      "World\n"
     ]
    }
   ],
   "source": [
    "message = \"Hello, World!\"\n",
    "\n",
    "print(message[-6:-1])"
   ]
  },
  {
   "cell_type": "code",
   "execution_count": 29,
   "id": "8a1ff94b-7ad4-4798-ba1b-b731d948c831",
   "metadata": {},
   "outputs": [],
   "source": [
    "word = \"python\""
   ]
  },
  {
   "cell_type": "code",
   "execution_count": 30,
   "id": "ca6adb3e-7a1d-4b91-a169-cb32dc9dfefa",
   "metadata": {},
   "outputs": [
    {
     "name": "stdout",
     "output_type": "stream",
     "text": [
      "Python\n"
     ]
    }
   ],
   "source": [
    "word = \"python\"\n",
    "\n",
    "capitalized_word = word.capitalize()\n",
    "\n",
    "print(capitalized_word)"
   ]
  },
  {
   "cell_type": "code",
   "execution_count": 31,
   "id": "a43d4d52-828c-4b69-9be2-892f53b12421",
   "metadata": {},
   "outputs": [
    {
     "name": "stdout",
     "output_type": "stream",
     "text": [
      "Hello, World!\n"
     ]
    }
   ],
   "source": [
    "text = \"   Hello, World!   \"\n",
    "\n",
    "trimmed_text = text.strip()\n",
    "\n",
    "print(trimmed_text)"
   ]
  },
  {
   "cell_type": "code",
   "execution_count": 32,
   "id": "6a11689a-14f0-4db3-a14c-cc1c37043d92",
   "metadata": {},
   "outputs": [
    {
     "name": "stdout",
     "output_type": "stream",
     "text": [
      "x = 10\n",
      "y = 5\n"
     ]
    }
   ],
   "source": [
    "# Declare two variables x and y and assign them integer values\n",
    "x = 5\n",
    "y = 10\n",
    "\n",
    "# Swap the values of x and y without using a temporary variable\n",
    "x, y = y, x\n",
    "\n",
    "# Print the new values of x and y\n",
    "print(\"x =\", x)\n",
    "print(\"y =\", y)\n"
   ]
  },
  {
   "cell_type": "code",
   "execution_count": null,
   "id": "14034b5c-b909-4b59-af0f-2a404a8d35d3",
   "metadata": {},
   "outputs": [],
   "source": []
  }
 ],
 "metadata": {
  "kernelspec": {
   "display_name": "Python 3 (ipykernel)",
   "language": "python",
   "name": "python3"
  },
  "language_info": {
   "codemirror_mode": {
    "name": "ipython",
    "version": 3
   },
   "file_extension": ".py",
   "mimetype": "text/x-python",
   "name": "python",
   "nbconvert_exporter": "python",
   "pygments_lexer": "ipython3",
   "version": "3.10.8"
  }
 },
 "nbformat": 4,
 "nbformat_minor": 5
}
